{
 "cells": [
  {
   "attachments": {},
   "cell_type": "markdown",
   "metadata": {},
   "source": [
    "数据预处理, 将WiderPerson.zip中的数据转为yolo可以训练的格式"
   ]
  },
  {
   "cell_type": "code",
   "execution_count": 1,
   "metadata": {},
   "outputs": [],
   "source": [
    "import os\n",
    "import shutil\n",
    "\n",
    "import cv2\n",
    "import tqdm\n",
    "import matplotlib.pyplot as plt"
   ]
  },
  {
   "cell_type": "code",
   "execution_count": 2,
   "metadata": {},
   "outputs": [],
   "source": [
    "wider_person_dir = os.path.join(os.path.abspath(\".\"), \"WiderPerson\")\n",
    "annotations_dir = os.path.join(wider_person_dir, \"Annotations\")\n",
    "images_dir = os.path.join(wider_person_dir, \"Images\")\n",
    "\n",
    "# 转换之后的路径\n",
    "person_data_dir = os.path.join(os.path.abspath(\".\"), \"person_data\")"
   ]
  },
  {
   "cell_type": "code",
   "execution_count": 3,
   "metadata": {},
   "outputs": [],
   "source": [
    "def convert_2_yolo(image_id, save_path_prefix=\"./person_data/labels/train\"):\n",
    "    \"\"\"读取标注文件, 转为yolo格式\"\"\"\n",
    "    origin_label_file = os.path.join(annotations_dir, f\"{image_id}.jpg.txt\")\n",
    "    with open(origin_label_file, \"r\") as f:\n",
    "        lines = f.readlines()\n",
    "\n",
    "    lines = [line.strip() for line in lines]\n",
    "\n",
    "    # 获取标注\n",
    "    boxes = lines[1:]\n",
    "    boxes = [box.split() for box in boxes]\n",
    "\n",
    "    # 读取标注文件对应的图片\n",
    "    img_file = os.path.join(images_dir, f\"{image_id}.jpg\")\n",
    "    img = cv2.imread(img_file)\n",
    "    # 转为yolo格式: 类别 id, x_center, y_center, width, height, 归一化到0-1, 保留6位小数\n",
    "    yolo_boxes = []\n",
    "    img_h, img_w, _ = img.shape\n",
    "    for box in boxes:\n",
    "        class_label = int(box[0]) - 1\n",
    "        x1, y1, x2, y2 = [int(i) for i in box[1:]]\n",
    "        x_center = round((x1 + x2) / 2 / img_w, 6)\n",
    "        y_center = round((y1 + y2) / 2 / img_h, 6)\n",
    "        width = round((x2 - x1) / img_w, 6)\n",
    "        height = round((y2 - y1) / img_h, 6)\n",
    "        yolo_boxes.append([class_label, x_center, y_center, width, height])\n",
    "\n",
    "    if not os.path.exists(save_path_prefix):\n",
    "        os.makedirs(save_path_prefix)\n",
    "\n",
    "    # 写入txt文件\n",
    "    yolo_label_file = os.path.join(save_path_prefix, f\"{image_id}.txt\")\n",
    "    with open(yolo_label_file, \"w\") as f:\n",
    "        for yolo_box in yolo_boxes:\n",
    "            f.write(\" \".join([str(i) for i in yolo_box]) + \"\\n\")\n",
    "\n",
    "    if os.path.exists(yolo_label_file):\n",
    "        return yolo_label_file"
   ]
  },
  {
   "cell_type": "code",
   "execution_count": 4,
   "metadata": {},
   "outputs": [],
   "source": [
    "def yolo_draw(img, yolo_label_file):\n",
    "    \"\"\"根据yolo格式的标注文件, 在图片上绘制\"\"\"\n",
    "    img_copy = img.copy()\n",
    "    color_dict = {\n",
    "        0: (255, 0, 0),\n",
    "        1: (0, 255, 0),\n",
    "        2: (0, 0, 255),\n",
    "        3: (255, 255, 0),\n",
    "        4: (0, 255, 255),\n",
    "    }\n",
    "    with open(yolo_label_file, \"r\") as f:\n",
    "        lines = f.readlines()\n",
    "\n",
    "        lines = [line.strip() for line in lines]\n",
    "\n",
    "        boxes = [line.split() for line in lines]\n",
    "\n",
    "        for box in boxes:\n",
    "            class_label = int(box[0])\n",
    "            x_center, y_center, width, height = [float(item) for item in box[1:]]\n",
    "            x1 = int((x_center - width / 2) * img_copy.shape[1])\n",
    "            y1 = int((y_center - height / 2) * img_copy.shape[0])\n",
    "            x2 = int((x_center + width / 2) * img_copy.shape[1])\n",
    "            y2 = int((y_center + height / 2) * img_copy.shape[0])\n",
    "            cv2.rectangle(img_copy, (x1, y1), (x2, y2), color_dict[class_label], 2)\n",
    "            cv2.putText(img_copy, str(class_label), (x1, y1), cv2.FONT_HERSHEY_SIMPLEX, 1, color_dict[class_label], 2)\n",
    "    \n",
    "    plt.imshow(img_copy[:,:,::-1])\n",
    "    plt.axis(\"off\")\n",
    "    plt.show()"
   ]
  },
  {
   "cell_type": "code",
   "execution_count": 5,
   "metadata": {},
   "outputs": [],
   "source": [
    "# test_img_id = \"000045\""
   ]
  },
  {
   "cell_type": "code",
   "execution_count": 6,
   "metadata": {},
   "outputs": [],
   "source": [
    "# convert_2_yolo(test_img_id)"
   ]
  },
  {
   "cell_type": "code",
   "execution_count": 7,
   "metadata": {},
   "outputs": [],
   "source": [
    "# img_file = os.path.join(images_dir, f\"{test_img_id}.jpg\")\n",
    "# img = cv2.imread(img_file)\n",
    "# plt.imshow(img[:,:,::-1])\n",
    "# plt.axis(\"off\")"
   ]
  },
  {
   "cell_type": "code",
   "execution_count": 8,
   "metadata": {},
   "outputs": [],
   "source": [
    "# yolo_draw(img, convert_2_yolo(test_img_id))"
   ]
  },
  {
   "cell_type": "code",
   "execution_count": 5,
   "metadata": {},
   "outputs": [],
   "source": [
    "images_train_dir = os.path.join(person_data_dir, \"images\", \"train\")\n",
    "images_val_dir = os.path.join(person_data_dir, \"images\", \"val\")\n",
    "if not os.path.exists(images_train_dir):\n",
    "    os.makedirs(images_train_dir)\n",
    "if not os.path.exists(images_val_dir):\n",
    "    os.makedirs(images_val_dir)\n",
    "\n",
    "labels_train_dir = os.path.join(person_data_dir, \"labels\", \"train\")\n",
    "labels_val_dir = os.path.join(person_data_dir, \"labels\", \"val\")\n",
    "if not os.path.exists(labels_train_dir):\n",
    "    os.makedirs(labels_train_dir)\n",
    "if not os.path.exists(labels_val_dir):\n",
    "    os.makedirs(labels_val_dir)"
   ]
  },
  {
   "cell_type": "code",
   "execution_count": 6,
   "metadata": {},
   "outputs": [
    {
     "name": "stdout",
     "output_type": "stream",
     "text": [
      "\u001b[01;34m./person_data\u001b[0m\n",
      "├── \u001b[01;34mimages\u001b[0m\n",
      "│   ├── \u001b[01;34mtrain\u001b[0m\n",
      "│   └── \u001b[01;34mval\u001b[0m\n",
      "└── \u001b[01;34mlabels\u001b[0m\n",
      "    ├── \u001b[01;34mtrain\u001b[0m\n",
      "    └── \u001b[01;34mval\u001b[0m\n",
      "\n",
      "6 directories, 0 files\n"
     ]
    }
   ],
   "source": [
    "! tree ./person_data"
   ]
  },
  {
   "cell_type": "code",
   "execution_count": 7,
   "metadata": {},
   "outputs": [],
   "source": [
    "# 获取所有训练图片的文件名\n",
    "with open(os.path.join(wider_person_dir, \"train.txt\"), \"r\") as f:\n",
    "    train_img_file_names = f.readlines()\n",
    "    train_img_file_names = [x.strip() for x in train_img_file_names]\n",
    "\n",
    "# 获取所有验证图片的文件名\n",
    "with open(os.path.join(wider_person_dir, \"val.txt\"), \"r\") as f:\n",
    "    val_img_file_names = f.readlines()\n",
    "    val_img_file_names = [x.strip() for x in val_img_file_names]"
   ]
  },
  {
   "cell_type": "code",
   "execution_count": 8,
   "metadata": {},
   "outputs": [
    {
     "name": "stdout",
     "output_type": "stream",
     "text": [
      "train_img_file_names:  8000\n",
      "val_img_file_names:  1000\n"
     ]
    }
   ],
   "source": [
    "print(\"train_img_file_names: \", len(train_img_file_names))\n",
    "print(\"val_img_file_names: \", len(val_img_file_names))"
   ]
  },
  {
   "cell_type": "code",
   "execution_count": 9,
   "metadata": {},
   "outputs": [
    {
     "name": "stderr",
     "output_type": "stream",
     "text": [
      "train: 100%|██████████| 8000/8000 [00:20<00:00, 394.33it/s]\n",
      "val: 100%|██████████| 1000/1000 [00:02<00:00, 458.03it/s]\n"
     ]
    }
   ],
   "source": [
    "for img_file_name in tqdm.tqdm(train_img_file_names, desc=\"train\"):\n",
    "    yolo_label_file = convert_2_yolo(img_file_name, labels_train_dir)\n",
    "    if yolo_label_file:\n",
    "        img_file = os.path.join(images_dir, f\"{img_file_name}.jpg\")\n",
    "        shutil.copy(img_file, os.path.join(images_train_dir, f\"{img_file_name}.jpg\"))\n",
    "\n",
    "for img_file_name in tqdm.tqdm(val_img_file_names, desc=\"val\"):\n",
    "    yolo_label_file = convert_2_yolo(img_file_name, labels_val_dir)\n",
    "    if yolo_label_file:\n",
    "        img_file = os.path.join(images_dir, f\"{img_file_name}.jpg\")\n",
    "        shutil.copy(img_file, os.path.join(images_val_dir, f\"{img_file_name}.jpg\"))"
   ]
  },
  {
   "cell_type": "code",
   "execution_count": 10,
   "metadata": {},
   "outputs": [
    {
     "name": "stdout",
     "output_type": "stream",
     "text": [
      "train_img_file_names: 8000\n",
      "val_img_file_names: 1000\n",
      "train_label_file_names: 8000\n",
      "val_label_file_names: 1000\n"
     ]
    }
   ],
   "source": [
    "# 检查文件数量\n",
    "print('train_img_file_names:', len(os.listdir('./person_data/images/train')))\n",
    "print('val_img_file_names:', len(os.listdir('./person_data/images/val')))\n",
    "print('train_label_file_names:', len(os.listdir('./person_data/labels/train')))\n",
    "print('val_label_file_names:', len(os.listdir('./person_data/labels/val')))"
   ]
  },
  {
   "cell_type": "code",
   "execution_count": null,
   "metadata": {},
   "outputs": [],
   "source": []
  }
 ],
 "metadata": {
  "kernelspec": {
   "display_name": "yolov5",
   "language": "python",
   "name": "python3"
  },
  "language_info": {
   "codemirror_mode": {
    "name": "ipython",
    "version": 3
   },
   "file_extension": ".py",
   "mimetype": "text/x-python",
   "name": "python",
   "nbconvert_exporter": "python",
   "pygments_lexer": "ipython3",
   "version": "3.10.11"
  },
  "orig_nbformat": 4
 },
 "nbformat": 4,
 "nbformat_minor": 2
}
